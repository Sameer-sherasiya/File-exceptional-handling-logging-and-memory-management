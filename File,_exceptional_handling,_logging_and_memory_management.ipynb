{
  "nbformat": 4,
  "nbformat_minor": 0,
  "metadata": {
    "colab": {
      "provenance": [],
      "toc_visible": true,
      "collapsed_sections": [
        "9v2oWUVzEMWh"
      ]
    },
    "kernelspec": {
      "name": "python3",
      "display_name": "Python 3"
    },
    "language_info": {
      "name": "python"
    }
  },
  "cells": [
    {
      "cell_type": "markdown",
      "source": [
        "# File, exceptional handling, logging and memory management Questions"
      ],
      "metadata": {
        "id": "VwOVufJLELo6"
      }
    },
    {
      "cell_type": "markdown",
      "source": [
        "1.What is the difference between interpreted and compilerd languages?\n",
        "  - **Interpreted** **Language**: Code is executed line by line an interpreter, without prior compilation. Example: Python,JavaScript.\n",
        "  - **Compiled** **Language**: Code is transformed into machine language by a compiler befor execution.\n",
        "  Example:c,c++.\n",
        "  - **Key** **Difference**: Interpreted languages are slower but more flexible, while compiled languages are faster but require a compilation step."
      ],
      "metadata": {
        "id": "3si0KC2fElt4"
      }
    },
    {
      "cell_type": "markdown",
      "source": [
        "2.What is exception handling in Pythod?\n",
        "  - Exception hndling in Python is a mechanism to handle runtime errors, allowing the program to continue execution or terminate gracefully. It uses constructs like **try**, **except**, **else**, and **finally**."
      ],
      "metadata": {
        "id": "73cJCwOvElcz"
      }
    },
    {
      "cell_type": "markdown",
      "source": [
        "3.What is the purpose of the finally block in exception handling?\n",
        "  - The **finally** block contains code that is always executed, regardless of whether an exception occurs or not. It is typically used for cleanup actions like closing file or releasing resources."
      ],
      "metadata": {
        "id": "7mKNS0ZzElOe"
      }
    },
    {
      "cell_type": "markdown",
      "source": [
        "4.What is logging in Python?\n",
        "  - Logging in Python is the process of recording messages about a program's execution. It help developers track and debug the program by saving messages to files or displaying them on the console."
      ],
      "metadata": {
        "id": "qJ133K1uEk_5"
      }
    },
    {
      "cell_type": "markdown",
      "source": [
        "5.What is the significance of the _ _ del _ _ method in Python?\n",
        "  - The __ del __ method is called when an object is about to be destroyed. It can be used to release resources or perform cleanup tasks. However, it's not commonly used because Python handles cleanup through garbage collection."
      ],
      "metadata": {
        "id": "pT94d81bEkx_"
      }
    },
    {
      "cell_type": "markdown",
      "source": [
        "6.What is the difference between import and from ... import in Python?\n",
        " - **import**:Imports the entire module. Example: **import** **math**.\n",
        " -  **from**... **import**: Imports specific functions or variable from a module. Example: **from** **math** **import** **sqrt**."
      ],
      "metadata": {
        "id": "ZwFdSKlyEkiP"
      }
    },
    {
      "cell_type": "markdown",
      "source": [
        "7.How can you handle multiple exceptions in Python?\n",
        "  - Use a single **except** block with a tuple of exception types or multiple **except** block."
      ],
      "metadata": {
        "id": "DFIHWlZREkVA"
      }
    },
    {
      "cell_type": "code",
      "source": [
        "try:\n",
        "  result = 10 / 0\n",
        "except (ZeroDivisionError, TypeError):\n",
        "  print(\"Caught one of the exceptions.\")\n",
        "except keyError:\n",
        "  print(\"Caught a keyError.\")"
      ],
      "metadata": {
        "colab": {
          "base_uri": "https://localhost:8080/"
        },
        "id": "67dAye4mKxKI",
        "outputId": "f2799b9d-c3cf-4916-99be-73b6d73f3f55"
      },
      "execution_count": 44,
      "outputs": [
        {
          "output_type": "stream",
          "name": "stdout",
          "text": [
            "Caught one of the exceptions.\n"
          ]
        }
      ]
    },
    {
      "cell_type": "markdown",
      "source": [
        "8.What is the purpose of the with statement when handling file in Python?\n",
        "  - The **with** statement simplifies file handling by automatically closing the file after the block of code is executed, even if an error occurs."
      ],
      "metadata": {
        "id": "2PGuE_IBEkFo"
      }
    },
    {
      "cell_type": "markdown",
      "source": [
        "9.What is defference between multithreading and multiprocessing?\n",
        "  - **Multitherading**: Runs multiple theads within the same process. Useful for I/O-bound tasks.\n",
        "  - **Multiprocessing**: Runs multiple processes. Useful for CPU-bound tasks as it multiple cores."
      ],
      "metadata": {
        "id": "XW99syv9Ej3E"
      }
    },
    {
      "cell_type": "markdown",
      "source": [
        "10.What are the advantages of using logging in a program?\n",
        "  - Tracks program execution and errors.\n",
        "  - Saves diaagnostic informatio.\n",
        "  - Debugging aid.\n",
        "  - Allow for different logging levels(E.g., DEBUG,INFO,ERROR)."
      ],
      "metadata": {
        "id": "KHwob7KjEjlG"
      }
    },
    {
      "cell_type": "markdown",
      "source": [
        "11.What is memory management in Python?\n",
        "  - Memory management in Python involves allocating, using, and dealllocating memory for objects. Python uses automatic garbage collection to reclaim unused memory."
      ],
      "metadata": {
        "id": "HfTYrRYZEjSR"
      }
    },
    {
      "cell_type": "markdown",
      "source": [
        "12.What are the basic steps involved in exception handling in Python?\n",
        "\n",
        " - Wrap code in a **try** block.\n",
        " - Handle exceptions in **except** blocks.\n",
        " - Optionally use **else** for code that runs if no exception occurs.\n",
        " - Use **finally** for cleanup actions."
      ],
      "metadata": {
        "id": "Zt6Zbjz3EjCi"
      }
    },
    {
      "cell_type": "markdown",
      "source": [
        "13.Why is memory management importance in Python?\n",
        "  - Efficient memory management ensures optimal use of system resources, prevents memory leaks, and maintins program stability."
      ],
      "metadata": {
        "id": "F4giMJ7DEi0L"
      }
    },
    {
      "cell_type": "markdown",
      "source": [
        "14.What is the role of try and except in exception handling?\n",
        "  - **try**: Contains code that may raise an exception.\n",
        "  - **except**: Handles the exception, [reventing the program from crashing."
      ],
      "metadata": {
        "id": "Zn9HTBTYEil5"
      }
    },
    {
      "cell_type": "markdown",
      "source": [
        "15.How does Python's garbage collection system work?\n",
        "  - Python uses a garbage collector to reclaim memory from objects that are no longer accessible. It uses reference counting and a cyclic garbage colector to detect and clean up unused objects."
      ],
      "metadata": {
        "id": "PkG2Bt6PEiUA"
      }
    },
    {
      "cell_type": "markdown",
      "source": [
        "16.What is the purpose of the eles block in exception handling?\n",
        " - The **else** block executes if no exceptions occur in the **try** block, allowing separation of error-handling code from regular code."
      ],
      "metadata": {
        "id": "WRwlkCabEiDC"
      }
    },
    {
      "cell_type": "markdown",
      "source": [
        "17.What are the common logging levels in Python?\n",
        " - **DEBUG**: Detailed information for debugging.\n",
        " - **INFO**: General information about program execution.\n",
        " - **WARNING**:Indicates potential issues.\n",
        " - **ERROR**:Indicates error that occurred.\n",
        " - **CRITICAL**:Serious error that may prevent program execution."
      ],
      "metadata": {
        "id": "Qx0VTssyEhz8"
      }
    },
    {
      "cell_type": "markdown",
      "source": [
        "18.What is the importance of closing a file in Python?\n",
        " - **os.fork()**:Creates a child process in Unix-based system.\n",
        " - **multiprocessing**: Across-platform modulefor creating and managing multiple processes."
      ],
      "metadata": {
        "id": "4sCe7ReqEhla"
      }
    },
    {
      "cell_type": "markdown",
      "source": [
        "19.What is the importance of closing a file in Python?\n",
        " - Closing a file releases system resources and ensures data is saved properly. It prevents file corruption and resource leak."
      ],
      "metadata": {
        "id": "oKHyKqZDEhWT"
      }
    },
    {
      "cell_type": "markdown",
      "source": [
        "20.What is the difference between file.read() and file.readline() in Python?\n",
        " - **file.read()**:Reads the entire file as a srting.\n",
        " - **file.readline()**:Reads a single line from the file."
      ],
      "metadata": {
        "id": "uGwIWaO1EhFm"
      }
    },
    {
      "cell_type": "markdown",
      "source": [
        "21.What is the logging module in Python used for?\n",
        "  - The **logging** modual is used to record messages for debugging,tracking program execution, and handling errors."
      ],
      "metadata": {
        "id": "J9eOQ7MBEg20"
      }
    },
    {
      "cell_type": "markdown",
      "source": [
        "22.What is the os module in Python used for in file handling?\n",
        "  - The **os** modual provides functions to interact with operating system,such as checking file existence,creating directories, and manipulating paths."
      ],
      "metadata": {
        "id": "C4_5LDOAEgoz"
      }
    },
    {
      "cell_type": "markdown",
      "source": [
        "23.What are the challenges associated with memory management in Python?\n",
        "  - Cyclic references.\n",
        "  - Fragmentation of memory.\n",
        "  - Overhead of garbage collection.\n",
        "  - Managing large datasets efficiently."
      ],
      "metadata": {
        "id": "pQKzpz52EgXw"
      }
    },
    {
      "cell_type": "markdown",
      "source": [
        "24.How do you raise an exception manually in Python?\n",
        "  - Use the **raise** statement."
      ],
      "metadata": {
        "id": "ryKoCVzXEgJ-"
      }
    },
    {
      "cell_type": "code",
      "source": [
        "raise ValueError(\"This is a manually raise exception.\") # Changed valueError to ValueError"
      ],
      "metadata": {
        "colab": {
          "base_uri": "https://localhost:8080/",
          "height": 141
        },
        "id": "jM0Hx-5pBvQX",
        "outputId": "7c3a3f24-82c4-469f-ecd1-e7636f87f04d"
      },
      "execution_count": 4,
      "outputs": [
        {
          "output_type": "error",
          "ename": "ValueError",
          "evalue": "This is a manually raise exception.",
          "traceback": [
            "\u001b[0;31m---------------------------------------------------------------------------\u001b[0m",
            "\u001b[0;31mValueError\u001b[0m                                Traceback (most recent call last)",
            "\u001b[0;32m<ipython-input-4-1a6b852deafd>\u001b[0m in \u001b[0;36m<cell line: 1>\u001b[0;34m()\u001b[0m\n\u001b[0;32m----> 1\u001b[0;31m \u001b[0;32mraise\u001b[0m \u001b[0mValueError\u001b[0m\u001b[0;34m(\u001b[0m\u001b[0;34m\"This is a manually raise exception.\"\u001b[0m\u001b[0;34m)\u001b[0m \u001b[0;31m# Changed valueError to ValueError\u001b[0m\u001b[0;34m\u001b[0m\u001b[0;34m\u001b[0m\u001b[0m\n\u001b[0m",
            "\u001b[0;31mValueError\u001b[0m: This is a manually raise exception."
          ]
        }
      ]
    },
    {
      "cell_type": "markdown",
      "source": [
        "25.Why is it important to use multithreading in certain applications?\n",
        "  - Multithereading is useful for improving performance in I/O-bound tasks, enabling concurrency, and creating responsive applications (e.g., GUIs)."
      ],
      "metadata": {
        "id": "aUad02kTEf7M"
      }
    },
    {
      "cell_type": "markdown",
      "source": [
        "# Practical Questions"
      ],
      "metadata": {
        "id": "9v2oWUVzEMWh"
      }
    },
    {
      "cell_type": "markdown",
      "source": [
        "1.How can you open a file writing in Python and write a string to it?"
      ],
      "metadata": {
        "id": "5mOdTbWfI_Rm"
      }
    },
    {
      "cell_type": "code",
      "source": [
        "with open(\"example.txt\", \"w\") as file:\n",
        "    file.write(\"Hello, this a string written to the file.\")"
      ],
      "metadata": {
        "id": "3Zd30pD_BNeG"
      },
      "execution_count": 3,
      "outputs": []
    },
    {
      "cell_type": "markdown",
      "source": [
        "2.Write a Python program to read the contents of a file and print each line."
      ],
      "metadata": {
        "id": "Ubsk_59vI_Ch"
      }
    },
    {
      "cell_type": "code",
      "source": [
        "with open(\"example.txt\", \"r\") as file:\n",
        "    for line in file:\n",
        "        print(line.strip())"
      ],
      "metadata": {
        "colab": {
          "base_uri": "https://localhost:8080/"
        },
        "id": "5JtR4A9YBOBZ",
        "outputId": "fd721938-600f-428e-a349-5c5ac03fc4fc"
      },
      "execution_count": 4,
      "outputs": [
        {
          "output_type": "stream",
          "name": "stdout",
          "text": [
            "Hello, this a string written to the file.\n"
          ]
        }
      ]
    },
    {
      "cell_type": "markdown",
      "source": [
        "3.How would you handle a case where the file dosen't exist while trying to open it for reading?"
      ],
      "metadata": {
        "id": "PYOrV9TSI-zc"
      }
    },
    {
      "cell_type": "code",
      "source": [
        "try:\n",
        "    with open(\"nonexistent_file.txt\", \"r\") as file:\n",
        "        content = file.read()\n",
        "except FileNotFoundError:\n",
        "    print(\"The file doesn't exist.\")"
      ],
      "metadata": {
        "colab": {
          "base_uri": "https://localhost:8080/"
        },
        "id": "zu04-mHjBO4T",
        "outputId": "fb192092-7145-403d-ec66-0d47a67faae0"
      },
      "execution_count": 5,
      "outputs": [
        {
          "output_type": "stream",
          "name": "stdout",
          "text": [
            "The file doesn't exist.\n"
          ]
        }
      ]
    },
    {
      "cell_type": "markdown",
      "source": [
        "4.Write a Python script that reads from one lineand writes its content to another file."
      ],
      "metadata": {
        "id": "SKWdZyuVI-kV"
      }
    },
    {
      "cell_type": "code",
      "source": [
        "\n",
        "try:\n",
        "    with open(\"source.txt\", \"r\") as source_file:\n",
        "        content = source_file.read()\n",
        "\n",
        "    with open(\"destination.txt\", \"w\") as destination_file:\n",
        "        destination_file.write(content)\n",
        "\n",
        "except FileNotFoundError:\n",
        "    print(\"Error: The file 'source.txt' was not found in the current directory.\")\n",
        "    print(\"Please make sure the file exists and is in the correct location.\")"
      ],
      "metadata": {
        "colab": {
          "base_uri": "https://localhost:8080/"
        },
        "id": "fzSE3TYgBPVc",
        "outputId": "bf5ee724-6222-49c8-b650-cf7cb4fd715c"
      },
      "execution_count": 8,
      "outputs": [
        {
          "output_type": "stream",
          "name": "stdout",
          "text": [
            "Error: The file 'source.txt' was not found in the current directory.\n",
            "Please make sure the file exists and is in the correct location.\n"
          ]
        }
      ]
    },
    {
      "cell_type": "markdown",
      "source": [
        "5.How would you catch and handle division by zero error in Python?"
      ],
      "metadata": {
        "id": "K6junwvII-WG"
      }
    },
    {
      "cell_type": "code",
      "source": [
        "try:\n",
        "    result = 10 / 0\n",
        "except ZeroDivisionError:\n",
        "    print(\"Error: Division by zero is not allowed.\")"
      ],
      "metadata": {
        "colab": {
          "base_uri": "https://localhost:8080/"
        },
        "id": "v8vTLfPTBPxj",
        "outputId": "5d7d2bd1-f2d8-4874-8abf-3568d0c5cb87"
      },
      "execution_count": 9,
      "outputs": [
        {
          "output_type": "stream",
          "name": "stdout",
          "text": [
            "Error: Division by zero is not allowed.\n"
          ]
        }
      ]
    },
    {
      "cell_type": "markdown",
      "source": [
        "6.Write a Python program that logs an error message to a log filewhen a division by zero exception occurs."
      ],
      "metadata": {
        "id": "5U-dzNBNI-Hc"
      }
    },
    {
      "cell_type": "code",
      "source": [
        "import logging\n",
        "\n",
        "logging.basicConfig(filename=\"error_log.txt\", level=logging.ERROR)\n",
        "\n",
        "try:\n",
        "    result = 10 / 0\n",
        "except ZeroDivisionError:\n",
        "    logging.error(\"Division by zero error occurred.\")"
      ],
      "metadata": {
        "colab": {
          "base_uri": "https://localhost:8080/"
        },
        "id": "yn4PV6sABQ6o",
        "outputId": "e190cb78-bd32-44fa-c5d6-f0f298b2363d"
      },
      "execution_count": 10,
      "outputs": [
        {
          "output_type": "stream",
          "name": "stderr",
          "text": [
            "ERROR:root:Division by zero error occurred.\n"
          ]
        }
      ]
    },
    {
      "cell_type": "markdown",
      "source": [
        " 7.How do you log information at different level (INFO, ERROR, WARNING) in Python using the logging module?"
      ],
      "metadata": {
        "id": "d8G7V_J6I94l"
      }
    },
    {
      "cell_type": "code",
      "source": [
        "import logging\n",
        "\n",
        "logging.basicConfig(filename=\"log_file.txt\", level=logging.INFO)\n",
        "\n",
        "logging.info(\"This is an informational message.\")\n",
        "logging.warning(\"This is a warning message.\")\n",
        "logging.error(\"This is an error message.\")"
      ],
      "metadata": {
        "colab": {
          "base_uri": "https://localhost:8080/"
        },
        "id": "4YlFz0hlBRR1",
        "outputId": "ca8872e0-ef21-4ed6-b371-f21a0ef58388"
      },
      "execution_count": 11,
      "outputs": [
        {
          "output_type": "stream",
          "name": "stderr",
          "text": [
            "WARNING:root:This is a warning message.\n",
            "ERROR:root:This is an error message.\n"
          ]
        }
      ]
    },
    {
      "cell_type": "markdown",
      "source": [
        "8.Write a program to handle a file opening error using exception handling."
      ],
      "metadata": {
        "id": "oxuuMTRqI9pt"
      }
    },
    {
      "cell_type": "code",
      "source": [
        "try:\n",
        "    with open(\"nonexistent_file.txt\", \"r\") as file:\n",
        "        content = file.read()\n",
        "except FileNotFoundError:\n",
        "    print(\"Error: The file 'nonexistent_file.txt' was not found in the current directory.\")"
      ],
      "metadata": {
        "colab": {
          "base_uri": "https://localhost:8080/"
        },
        "id": "12tnVcyfBR3h",
        "outputId": "23ccb73e-c898-40e6-bec5-5371c07d5834"
      },
      "execution_count": 12,
      "outputs": [
        {
          "output_type": "stream",
          "name": "stdout",
          "text": [
            "Error: The file 'nonexistent_file.txt' was not found in the current directory.\n"
          ]
        }
      ]
    },
    {
      "cell_type": "markdown",
      "source": [
        "9.How can you read a file line by line and store its content in a list in Python?"
      ],
      "metadata": {
        "id": "LGLgALE4I9a4"
      }
    },
    {
      "cell_type": "code",
      "source": [
        "with open(\"example.txt\", \"r\") as file:\n",
        "    lines = file.readlines()\n",
        "\n",
        "for line in lines:\n",
        "    print(line.strip())"
      ],
      "metadata": {
        "colab": {
          "base_uri": "https://localhost:8080/"
        },
        "id": "kgBDyBYHBSU7",
        "outputId": "9705975f-f825-4a23-d653-8250abab76dc"
      },
      "execution_count": 13,
      "outputs": [
        {
          "output_type": "stream",
          "name": "stdout",
          "text": [
            "Hello, this a string written to the file.\n"
          ]
        }
      ]
    },
    {
      "cell_type": "markdown",
      "source": [
        "10.How can you append data to an existing file in Python?"
      ],
      "metadata": {
        "id": "jWJ2GS1WI9KD"
      }
    },
    {
      "cell_type": "code",
      "source": [
        "with open(\"example.txt\", \"a\") as file:\n",
        "    file.write(\"\\nThis line is appended to the file.\")"
      ],
      "metadata": {
        "id": "BsBqdZJRBTM3"
      },
      "execution_count": 14,
      "outputs": []
    },
    {
      "cell_type": "markdown",
      "source": [
        "11.Write a Python program that uses a try-except block to handle an error when attempting to access a dictionary key that dosen't exist."
      ],
      "metadata": {
        "id": "EgxR0i6pI87_"
      }
    },
    {
      "cell_type": "code",
      "source": [
        "my_dict = {\"a\": 1, \"b\": 2, \"c\": 3}\n",
        "\n",
        "try:\n",
        "    value = my_dict[\"d\"]\n",
        "except KeyError:\n",
        "    print(\"Error: The key 'd' does not exist in the dictionary.\")"
      ],
      "metadata": {
        "colab": {
          "base_uri": "https://localhost:8080/"
        },
        "id": "fJnF8LPZBTnJ",
        "outputId": "0e763bfb-e428-470f-a3c4-4cd34a853fc9"
      },
      "execution_count": 15,
      "outputs": [
        {
          "output_type": "stream",
          "name": "stdout",
          "text": [
            "Error: The key 'd' does not exist in the dictionary.\n"
          ]
        }
      ]
    },
    {
      "cell_type": "markdown",
      "source": [
        "12.Write a program that demonstrates using multiple except blockto handle different types of exceptions."
      ],
      "metadata": {
        "id": "u8fhYKocI8tK"
      }
    },
    {
      "cell_type": "code",
      "source": [
        "try:\n",
        "  value = int(\"abc\")\n",
        "  result = 10 / 0\n",
        "except ValueError:\n",
        "  print(\"Error: Invalid value.\")\n",
        "except ZeroDivisionError:\n",
        "  print(\"Error: Division by zero.\")"
      ],
      "metadata": {
        "colab": {
          "base_uri": "https://localhost:8080/"
        },
        "id": "JcWCM7ySBT_E",
        "outputId": "2a49c19b-3e8e-4fa9-87b5-38a34cbc0bc5"
      },
      "execution_count": 16,
      "outputs": [
        {
          "output_type": "stream",
          "name": "stdout",
          "text": [
            "Error: Invalid value.\n"
          ]
        }
      ]
    },
    {
      "cell_type": "markdown",
      "source": [
        "13.How would you check if a file before attempting to read in Python?"
      ],
      "metadata": {
        "id": "oICFLYOCI8hA"
      }
    },
    {
      "cell_type": "code",
      "source": [
        "import os\n",
        "\n",
        "if os.path.isfile(\"example.txt\"):\n",
        "    with open(\"example.txt\", \"r\") as file:\n",
        "        content = file.read()\n",
        "else:\n",
        "    print(\"Error: The file 'example.txt' does not exist.\")"
      ],
      "metadata": {
        "id": "6El_DIQVBUsn"
      },
      "execution_count": 17,
      "outputs": []
    },
    {
      "cell_type": "markdown",
      "source": [
        "14.Write a program that uses the logging module to log both informational and error messages."
      ],
      "metadata": {
        "id": "swn4vbTkI8SH"
      }
    },
    {
      "cell_type": "code",
      "source": [
        "import logging\n",
        "\n",
        "logging.basicConfig(filename=\"log_file.txt\", level=logging.INFO)\n",
        "\n",
        "logging.info(\"This is an informational message.\")\n",
        "logging.error(\"This is an error message.\")"
      ],
      "metadata": {
        "colab": {
          "base_uri": "https://localhost:8080/"
        },
        "id": "qPWJa4BCBVno",
        "outputId": "53d88fdd-076f-431d-fc78-7f1b396f32ac"
      },
      "execution_count": 18,
      "outputs": [
        {
          "output_type": "stream",
          "name": "stderr",
          "text": [
            "ERROR:root:This is an error message.\n"
          ]
        }
      ]
    },
    {
      "cell_type": "markdown",
      "source": [
        "15.Write a Python program that print the content of a file and handles the case when the file is empty."
      ],
      "metadata": {
        "id": "szhaiy9fI8EF"
      }
    },
    {
      "cell_type": "code",
      "source": [
        "with open(\"example.txt\", \"r\") as file:\n",
        "    content = file.read()\n",
        "\n",
        "if content:\n",
        "    print(content)\n",
        "else:\n",
        "    print(\"The file is empty.\")"
      ],
      "metadata": {
        "colab": {
          "base_uri": "https://localhost:8080/"
        },
        "id": "BOUxyiZbBWGV",
        "outputId": "8d5db267-3c7c-43dc-8a8a-a89b620bb3cc"
      },
      "execution_count": 19,
      "outputs": [
        {
          "output_type": "stream",
          "name": "stdout",
          "text": [
            "Hello, this a string written to the file.\n",
            "This line is appended to the file.\n"
          ]
        }
      ]
    },
    {
      "cell_type": "markdown",
      "source": [
        "16.Demonstrate how to use memory profiling to check the memory usage of a small program."
      ],
      "metadata": {
        "id": "tVJ_IslrI72V"
      }
    },
    {
      "cell_type": "code",
      "source": [
        "!pip install memory_profiler # Install the memory_profiler module\n",
        "from memory_profiler import profile\n",
        "\n",
        "@profile\n",
        "def my_function():\n",
        "    # Some code here\n",
        "    pass\n",
        "\n",
        "my_function()"
      ],
      "metadata": {
        "colab": {
          "base_uri": "https://localhost:8080/"
        },
        "id": "5MafLPl-BWfm",
        "outputId": "0b77aa55-6183-40f8-a0b0-6d4779f3a9fc"
      },
      "execution_count": 21,
      "outputs": [
        {
          "output_type": "stream",
          "name": "stdout",
          "text": [
            "Collecting memory_profiler\n",
            "  Downloading memory_profiler-0.61.0-py3-none-any.whl.metadata (20 kB)\n",
            "Requirement already satisfied: psutil in /usr/local/lib/python3.10/dist-packages (from memory_profiler) (5.9.5)\n",
            "Downloading memory_profiler-0.61.0-py3-none-any.whl (31 kB)\n",
            "Installing collected packages: memory_profiler\n",
            "Successfully installed memory_profiler-0.61.0\n"
          ]
        },
        {
          "output_type": "stream",
          "name": "stderr",
          "text": [
            "\n",
            "PYDEV DEBUGGER WARNING:\n",
            "sys.settrace() should not be used when the debugger is being used.\n",
            "This may cause the debugger to stop working correctly.\n",
            "If this is needed, please check: \n",
            "http://pydev.blogspot.com/2007/06/why-cant-pydev-debugger-work-with.html\n",
            "to see how to restore the debug tracing back correctly.\n",
            "Call Location:\n",
            "  File \"/usr/local/lib/python3.10/dist-packages/memory_profiler.py\", line 847, in enable\n",
            "    sys.settrace(self.trace_memory_usage)\n",
            "\n",
            "\n",
            "PYDEV DEBUGGER WARNING:\n",
            "sys.settrace() should not be used when the debugger is being used.\n",
            "This may cause the debugger to stop working correctly.\n",
            "If this is needed, please check: \n",
            "http://pydev.blogspot.com/2007/06/why-cant-pydev-debugger-work-with.html\n",
            "to see how to restore the debug tracing back correctly.\n",
            "Call Location:\n",
            "  File \"/usr/local/lib/python3.10/dist-packages/memory_profiler.py\", line 850, in disable\n",
            "    sys.settrace(self._original_trace_function)\n",
            "\n"
          ]
        },
        {
          "output_type": "stream",
          "name": "stdout",
          "text": [
            "ERROR: Could not find file <ipython-input-21-2213a4e554e0>\n",
            "NOTE: %mprun can only be used on functions defined in physical files, and not in the IPython environment.\n"
          ]
        }
      ]
    },
    {
      "cell_type": "markdown",
      "source": [
        "17.Write a Python program to create and write a list of numbers to a file, one number per line."
      ],
      "metadata": {
        "id": "uk1jqY-YI7oh"
      }
    },
    {
      "cell_type": "code",
      "source": [
        "numbers = [1, 2, 3, 4, 5]\n",
        "\n",
        "with open(\"numbers.txt\", \"w\") as file:\n",
        "    for num in numbers:\n",
        "        file.write(str(num) + \"\\n\")"
      ],
      "metadata": {
        "id": "w2JOixCgBW7J"
      },
      "execution_count": 24,
      "outputs": []
    },
    {
      "cell_type": "markdown",
      "source": [
        "18.How would you implement to basic logging setup that logs to a file rotation after 1MB?"
      ],
      "metadata": {
        "id": "rXsPNmBOI7b-"
      }
    },
    {
      "cell_type": "code",
      "source": [
        "import logging\n",
        "from logging.handlers import RotatingFileHandler\n",
        "\n",
        "handler = RotatingFileHandler(\"app.log\", maxBytes=1000000, backupCount=5)\n",
        "formatter = logging.Formatter(\"%(asctime)s - %(levelname)s - %(message)s\")\n",
        "handler.setFormatter(formatter)\n",
        "\n",
        "logging.info(\"This is an informational message.\")\n",
        "logging.warning(\"This is a warning message.\")\n",
        "logging.error(\"This is an error message.\")"
      ],
      "metadata": {
        "colab": {
          "base_uri": "https://localhost:8080/"
        },
        "id": "v2gAQz3wBXsm",
        "outputId": "b3ffc581-0b96-44b6-b277-ac71fffbc754"
      },
      "execution_count": 26,
      "outputs": [
        {
          "output_type": "stream",
          "name": "stderr",
          "text": [
            "WARNING:root:This is a warning message.\n",
            "ERROR:root:This is an error message.\n"
          ]
        }
      ]
    },
    {
      "cell_type": "markdown",
      "source": [
        "19.Write a program that handles both indexError and KeyError using a try-except block."
      ],
      "metadata": {
        "id": "WhYGUlD0I7N_"
      }
    },
    {
      "cell_type": "code",
      "source": [
        "try:\n",
        "  my_list = [1, 2, 3]\n",
        "  print(my_list[3])\n",
        "\n",
        "  my_dict = {\"a\": 1, \"b\": 2, \"c\": 3}\n",
        "  print(my_dict[\"d\"])\n",
        "\n",
        "\n",
        "except IndexError:\n",
        "  print(\"Error: Index out of range.\")\n",
        "except KeyError:\n",
        "  print(\"Error: Key not found in dictionary.\")"
      ],
      "metadata": {
        "colab": {
          "base_uri": "https://localhost:8080/"
        },
        "id": "VfPmHU6yBYKR",
        "outputId": "dc39e232-f691-4109-f312-069ee71b59ff"
      },
      "execution_count": 29,
      "outputs": [
        {
          "output_type": "stream",
          "name": "stdout",
          "text": [
            "Error: Index out of range.\n"
          ]
        }
      ]
    },
    {
      "cell_type": "markdown",
      "source": [
        "20.How would you open a file and read its contents using a context manager in Python?"
      ],
      "metadata": {
        "id": "wiadtTaEI7Aq"
      }
    },
    {
      "cell_type": "code",
      "source": [
        "with open(\"example.txt\", \"r\") as file:\n",
        "    content = file.read()\n",
        "    print(content)"
      ],
      "metadata": {
        "colab": {
          "base_uri": "https://localhost:8080/"
        },
        "id": "RygCGt7qBYnK",
        "outputId": "12e134eb-9219-448a-b8e8-bb5d2661a38c"
      },
      "execution_count": 30,
      "outputs": [
        {
          "output_type": "stream",
          "name": "stdout",
          "text": [
            "Hello, this a string written to the file.\n",
            "This line is appended to the file.\n"
          ]
        }
      ]
    },
    {
      "cell_type": "markdown",
      "source": [
        "21.Write a Python program that reads a file and prints the number of occurrences of a specific word."
      ],
      "metadata": {
        "id": "T3lb9ER_I60A"
      }
    },
    {
      "cell_type": "code",
      "source": [
        "word_to_count = \"Python\"\n",
        "\n",
        "with open(\"example.txt\", \"r\") as file:\n",
        "    content = file.read()\n",
        "    words = content.split()\n",
        "    count = words.count(word_to_count)"
      ],
      "metadata": {
        "id": "deU0TnuNBZHJ"
      },
      "execution_count": 31,
      "outputs": []
    },
    {
      "cell_type": "markdown",
      "source": [
        "22.How can you check if a file is empty befor attemting to read its contents?"
      ],
      "metadata": {
        "id": "V8ok5acmI6l2"
      }
    },
    {
      "cell_type": "code",
      "source": [
        "import os\n",
        "\n",
        "if os.stat(\"example.txt\").st_size == 0:\n",
        "    print(\"The file is empty.\")\n",
        "else:\n",
        "    with open(\"example.txt\", \"r\") as file:\n",
        "        content = file.read()"
      ],
      "metadata": {
        "id": "HsDOVDkZBZ5X"
      },
      "execution_count": 33,
      "outputs": []
    },
    {
      "cell_type": "markdown",
      "source": [
        "23.Write a Python program that writes to a log file an error occurs during file handling."
      ],
      "metadata": {
        "id": "xV_j8PRdI4fj"
      }
    },
    {
      "cell_type": "code",
      "source": [
        "import logging\n",
        "\n",
        "logging.basicConfig(filename=\"error_log.txt\", level=logging.ERROR)\n",
        "\n",
        "try:\n",
        "    with open(\"nonexistent_file.txt\", \"r\") as file:\n",
        "        content = file.read()\n",
        "except FileNotFoundError:\n",
        "    logging.error(\"Error: The file 'nonexistent_file.txt' was not found in the current directory.\")"
      ],
      "metadata": {
        "colab": {
          "base_uri": "https://localhost:8080/"
        },
        "id": "AaJW4fh6BahM",
        "outputId": "2f924d58-b40b-4c28-f514-68c68eea3e0d"
      },
      "execution_count": 40,
      "outputs": [
        {
          "output_type": "stream",
          "name": "stderr",
          "text": [
            "ERROR:root:Error: The file 'nonexistent_file.txt' was not found in the current directory.\n"
          ]
        }
      ]
    }
  ]
}